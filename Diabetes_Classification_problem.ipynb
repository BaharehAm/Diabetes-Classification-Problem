{
  "nbformat": 4,
  "nbformat_minor": 0,
  "metadata": {
    "colab": {
      "name": "Diabet Classification problem.ipynb",
      "provenance": [],
      "collapsed_sections": [
        "-P0Jm7tvayA_",
        "hnkzA3BOhzzl",
        "45NJrkcI198_"
      ]
    },
    "kernelspec": {
      "name": "python3",
      "display_name": "Python 3"
    },
    "language_info": {
      "name": "python"
    }
  },
  "cells": [
    {
      "cell_type": "markdown",
      "metadata": {
        "id": "H8HvYgmDZfac"
      },
      "source": [
        "## Importing the Libraries and Loading the Dataset"
      ]
    },
    {
      "cell_type": "code",
      "metadata": {
        "id": "05o16Qk0lIMJ"
      },
      "source": [
        "## Import necessary libraries \n",
        "import numpy as np\n",
        "import pandas as pd\n",
        "import seaborn as sns\n",
        "import matplotlib.pyplot as plt \n",
        "from sklearn.preprocessing import StandardScaler \n",
        "from sklearn.model_selection import train_test_split, GridSearchCV\n",
        "from sklearn.neighbors import KNeighborsClassifier\n",
        "from sklearn.linear_model import LogisticRegression\n",
        "from sklearn.tree import DecisionTreeClassifier\n",
        "from sklearn.neural_network import MLPClassifier\n",
        "from sklearn.metrics import confusion_matrix\n",
        "\n",
        "!pip install hypopt\n",
        "from hypopt import GridSearch\n",
        "## \"hypopt\" is a python package developed for Grid search hyperparameter optimization and it supports the cases with  \n",
        "# explicit validation set (we cannot use the Scikit learn Grid Search approach as it uses k-fold cross validation method)\n",
        "\n",
        "from google.colab import files\n",
        "from google.colab import output\n",
        "output.clear()\n",
        "\n",
        "import random \n"
      ],
      "execution_count": null,
      "outputs": []
    },
    {
      "cell_type": "code",
      "metadata": {
        "colab": {
          "resources": {
            "http://localhost:8080/nbextensions/google.colab/files.js": {
              "data": "Ly8gQ29weXJpZ2h0IDIwMTcgR29vZ2xlIExMQwovLwovLyBMaWNlbnNlZCB1bmRlciB0aGUgQXBhY2hlIExpY2Vuc2UsIFZlcnNpb24gMi4wICh0aGUgIkxpY2Vuc2UiKTsKLy8geW91IG1heSBub3QgdXNlIHRoaXMgZmlsZSBleGNlcHQgaW4gY29tcGxpYW5jZSB3aXRoIHRoZSBMaWNlbnNlLgovLyBZb3UgbWF5IG9idGFpbiBhIGNvcHkgb2YgdGhlIExpY2Vuc2UgYXQKLy8KLy8gICAgICBodHRwOi8vd3d3LmFwYWNoZS5vcmcvbGljZW5zZXMvTElDRU5TRS0yLjAKLy8KLy8gVW5sZXNzIHJlcXVpcmVkIGJ5IGFwcGxpY2FibGUgbGF3IG9yIGFncmVlZCB0byBpbiB3cml0aW5nLCBzb2Z0d2FyZQovLyBkaXN0cmlidXRlZCB1bmRlciB0aGUgTGljZW5zZSBpcyBkaXN0cmlidXRlZCBvbiBhbiAiQVMgSVMiIEJBU0lTLAovLyBXSVRIT1VUIFdBUlJBTlRJRVMgT1IgQ09ORElUSU9OUyBPRiBBTlkgS0lORCwgZWl0aGVyIGV4cHJlc3Mgb3IgaW1wbGllZC4KLy8gU2VlIHRoZSBMaWNlbnNlIGZvciB0aGUgc3BlY2lmaWMgbGFuZ3VhZ2UgZ292ZXJuaW5nIHBlcm1pc3Npb25zIGFuZAovLyBsaW1pdGF0aW9ucyB1bmRlciB0aGUgTGljZW5zZS4KCi8qKgogKiBAZmlsZW92ZXJ2aWV3IEhlbHBlcnMgZm9yIGdvb2dsZS5jb2xhYiBQeXRob24gbW9kdWxlLgogKi8KKGZ1bmN0aW9uKHNjb3BlKSB7CmZ1bmN0aW9uIHNwYW4odGV4dCwgc3R5bGVBdHRyaWJ1dGVzID0ge30pIHsKICBjb25zdCBlbGVtZW50ID0gZG9jdW1lbnQuY3JlYXRlRWxlbWVudCgnc3BhbicpOwogIGVsZW1lbnQudGV4dENvbnRlbnQgPSB0ZXh0OwogIGZvciAoY29uc3Qga2V5IG9mIE9iamVjdC5rZXlzKHN0eWxlQXR0cmlidXRlcykpIHsKICAgIGVsZW1lbnQuc3R5bGVba2V5XSA9IHN0eWxlQXR0cmlidXRlc1trZXldOwogIH0KICByZXR1cm4gZWxlbWVudDsKfQoKLy8gTWF4IG51bWJlciBvZiBieXRlcyB3aGljaCB3aWxsIGJlIHVwbG9hZGVkIGF0IGEgdGltZS4KY29uc3QgTUFYX1BBWUxPQURfU0laRSA9IDEwMCAqIDEwMjQ7CgpmdW5jdGlvbiBfdXBsb2FkRmlsZXMoaW5wdXRJZCwgb3V0cHV0SWQpIHsKICBjb25zdCBzdGVwcyA9IHVwbG9hZEZpbGVzU3RlcChpbnB1dElkLCBvdXRwdXRJZCk7CiAgY29uc3Qgb3V0cHV0RWxlbWVudCA9IGRvY3VtZW50LmdldEVsZW1lbnRCeUlkKG91dHB1dElkKTsKICAvLyBDYWNoZSBzdGVwcyBvbiB0aGUgb3V0cHV0RWxlbWVudCB0byBtYWtlIGl0IGF2YWlsYWJsZSBmb3IgdGhlIG5leHQgY2FsbAogIC8vIHRvIHVwbG9hZEZpbGVzQ29udGludWUgZnJvbSBQeXRob24uCiAgb3V0cHV0RWxlbWVudC5zdGVwcyA9IHN0ZXBzOwoKICByZXR1cm4gX3VwbG9hZEZpbGVzQ29udGludWUob3V0cHV0SWQpOwp9CgovLyBUaGlzIGlzIHJvdWdobHkgYW4gYXN5bmMgZ2VuZXJhdG9yIChub3Qgc3VwcG9ydGVkIGluIHRoZSBicm93c2VyIHlldCksCi8vIHdoZXJlIHRoZXJlIGFyZSBtdWx0aXBsZSBhc3luY2hyb25vdXMgc3RlcHMgYW5kIHRoZSBQeXRob24gc2lkZSBpcyBnb2luZwovLyB0byBwb2xsIGZvciBjb21wbGV0aW9uIG9mIGVhY2ggc3RlcC4KLy8gVGhpcyB1c2VzIGEgUHJvbWlzZSB0byBibG9jayB0aGUgcHl0aG9uIHNpZGUgb24gY29tcGxldGlvbiBvZiBlYWNoIHN0ZXAsCi8vIHRoZW4gcGFzc2VzIHRoZSByZXN1bHQgb2YgdGhlIHByZXZpb3VzIHN0ZXAgYXMgdGhlIGlucHV0IHRvIHRoZSBuZXh0IHN0ZXAuCmZ1bmN0aW9uIF91cGxvYWRGaWxlc0NvbnRpbnVlKG91dHB1dElkKSB7CiAgY29uc3Qgb3V0cHV0RWxlbWVudCA9IGRvY3VtZW50LmdldEVsZW1lbnRCeUlkKG91dHB1dElkKTsKICBjb25zdCBzdGVwcyA9IG91dHB1dEVsZW1lbnQuc3RlcHM7CgogIGNvbnN0IG5leHQgPSBzdGVwcy5uZXh0KG91dHB1dEVsZW1lbnQubGFzdFByb21pc2VWYWx1ZSk7CiAgcmV0dXJuIFByb21pc2UucmVzb2x2ZShuZXh0LnZhbHVlLnByb21pc2UpLnRoZW4oKHZhbHVlKSA9PiB7CiAgICAvLyBDYWNoZSB0aGUgbGFzdCBwcm9taXNlIHZhbHVlIHRvIG1ha2UgaXQgYXZhaWxhYmxlIHRvIHRoZSBuZXh0CiAgICAvLyBzdGVwIG9mIHRoZSBnZW5lcmF0b3IuCiAgICBvdXRwdXRFbGVtZW50Lmxhc3RQcm9taXNlVmFsdWUgPSB2YWx1ZTsKICAgIHJldHVybiBuZXh0LnZhbHVlLnJlc3BvbnNlOwogIH0pOwp9CgovKioKICogR2VuZXJhdG9yIGZ1bmN0aW9uIHdoaWNoIGlzIGNhbGxlZCBiZXR3ZWVuIGVhY2ggYXN5bmMgc3RlcCBvZiB0aGUgdXBsb2FkCiAqIHByb2Nlc3MuCiAqIEBwYXJhbSB7c3RyaW5nfSBpbnB1dElkIEVsZW1lbnQgSUQgb2YgdGhlIGlucHV0IGZpbGUgcGlja2VyIGVsZW1lbnQuCiAqIEBwYXJhbSB7c3RyaW5nfSBvdXRwdXRJZCBFbGVtZW50IElEIG9mIHRoZSBvdXRwdXQgZGlzcGxheS4KICogQHJldHVybiB7IUl0ZXJhYmxlPCFPYmplY3Q+fSBJdGVyYWJsZSBvZiBuZXh0IHN0ZXBzLgogKi8KZnVuY3Rpb24qIHVwbG9hZEZpbGVzU3RlcChpbnB1dElkLCBvdXRwdXRJZCkgewogIGNvbnN0IGlucHV0RWxlbWVudCA9IGRvY3VtZW50LmdldEVsZW1lbnRCeUlkKGlucHV0SWQpOwogIGlucHV0RWxlbWVudC5kaXNhYmxlZCA9IGZhbHNlOwoKICBjb25zdCBvdXRwdXRFbGVtZW50ID0gZG9jdW1lbnQuZ2V0RWxlbWVudEJ5SWQob3V0cHV0SWQpOwogIG91dHB1dEVsZW1lbnQuaW5uZXJIVE1MID0gJyc7CgogIGNvbnN0IHBpY2tlZFByb21pc2UgPSBuZXcgUHJvbWlzZSgocmVzb2x2ZSkgPT4gewogICAgaW5wdXRFbGVtZW50LmFkZEV2ZW50TGlzdGVuZXIoJ2NoYW5nZScsIChlKSA9PiB7CiAgICAgIHJlc29sdmUoZS50YXJnZXQuZmlsZXMpOwogICAgfSk7CiAgfSk7CgogIGNvbnN0IGNhbmNlbCA9IGRvY3VtZW50LmNyZWF0ZUVsZW1lbnQoJ2J1dHRvbicpOwogIGlucHV0RWxlbWVudC5wYXJlbnRFbGVtZW50LmFwcGVuZENoaWxkKGNhbmNlbCk7CiAgY2FuY2VsLnRleHRDb250ZW50ID0gJ0NhbmNlbCB1cGxvYWQnOwogIGNvbnN0IGNhbmNlbFByb21pc2UgPSBuZXcgUHJvbWlzZSgocmVzb2x2ZSkgPT4gewogICAgY2FuY2VsLm9uY2xpY2sgPSAoKSA9PiB7CiAgICAgIHJlc29sdmUobnVsbCk7CiAgICB9OwogIH0pOwoKICAvLyBXYWl0IGZvciB0aGUgdXNlciB0byBwaWNrIHRoZSBmaWxlcy4KICBjb25zdCBmaWxlcyA9IHlpZWxkIHsKICAgIHByb21pc2U6IFByb21pc2UucmFjZShbcGlja2VkUHJvbWlzZSwgY2FuY2VsUHJvbWlzZV0pLAogICAgcmVzcG9uc2U6IHsKICAgICAgYWN0aW9uOiAnc3RhcnRpbmcnLAogICAgfQogIH07CgogIGNhbmNlbC5yZW1vdmUoKTsKCiAgLy8gRGlzYWJsZSB0aGUgaW5wdXQgZWxlbWVudCBzaW5jZSBmdXJ0aGVyIHBpY2tzIGFyZSBub3QgYWxsb3dlZC4KICBpbnB1dEVsZW1lbnQuZGlzYWJsZWQgPSB0cnVlOwoKICBpZiAoIWZpbGVzKSB7CiAgICByZXR1cm4gewogICAgICByZXNwb25zZTogewogICAgICAgIGFjdGlvbjogJ2NvbXBsZXRlJywKICAgICAgfQogICAgfTsKICB9CgogIGZvciAoY29uc3QgZmlsZSBvZiBmaWxlcykgewogICAgY29uc3QgbGkgPSBkb2N1bWVudC5jcmVhdGVFbGVtZW50KCdsaScpOwogICAgbGkuYXBwZW5kKHNwYW4oZmlsZS5uYW1lLCB7Zm9udFdlaWdodDogJ2JvbGQnfSkpOwogICAgbGkuYXBwZW5kKHNwYW4oCiAgICAgICAgYCgke2ZpbGUudHlwZSB8fCAnbi9hJ30pIC0gJHtmaWxlLnNpemV9IGJ5dGVzLCBgICsKICAgICAgICBgbGFzdCBtb2RpZmllZDogJHsKICAgICAgICAgICAgZmlsZS5sYXN0TW9kaWZpZWREYXRlID8gZmlsZS5sYXN0TW9kaWZpZWREYXRlLnRvTG9jYWxlRGF0ZVN0cmluZygpIDoKICAgICAgICAgICAgICAgICAgICAgICAgICAgICAgICAgICAgJ24vYSd9IC0gYCkpOwogICAgY29uc3QgcGVyY2VudCA9IHNwYW4oJzAlIGRvbmUnKTsKICAgIGxpLmFwcGVuZENoaWxkKHBlcmNlbnQpOwoKICAgIG91dHB1dEVsZW1lbnQuYXBwZW5kQ2hpbGQobGkpOwoKICAgIGNvbnN0IGZpbGVEYXRhUHJvbWlzZSA9IG5ldyBQcm9taXNlKChyZXNvbHZlKSA9PiB7CiAgICAgIGNvbnN0IHJlYWRlciA9IG5ldyBGaWxlUmVhZGVyKCk7CiAgICAgIHJlYWRlci5vbmxvYWQgPSAoZSkgPT4gewogICAgICAgIHJlc29sdmUoZS50YXJnZXQucmVzdWx0KTsKICAgICAgfTsKICAgICAgcmVhZGVyLnJlYWRBc0FycmF5QnVmZmVyKGZpbGUpOwogICAgfSk7CiAgICAvLyBXYWl0IGZvciB0aGUgZGF0YSB0byBiZSByZWFkeS4KICAgIGxldCBmaWxlRGF0YSA9IHlpZWxkIHsKICAgICAgcHJvbWlzZTogZmlsZURhdGFQcm9taXNlLAogICAgICByZXNwb25zZTogewogICAgICAgIGFjdGlvbjogJ2NvbnRpbnVlJywKICAgICAgfQogICAgfTsKCiAgICAvLyBVc2UgYSBjaHVua2VkIHNlbmRpbmcgdG8gYXZvaWQgbWVzc2FnZSBzaXplIGxpbWl0cy4gU2VlIGIvNjIxMTU2NjAuCiAgICBsZXQgcG9zaXRpb24gPSAwOwogICAgZG8gewogICAgICBjb25zdCBsZW5ndGggPSBNYXRoLm1pbihmaWxlRGF0YS5ieXRlTGVuZ3RoIC0gcG9zaXRpb24sIE1BWF9QQVlMT0FEX1NJWkUpOwogICAgICBjb25zdCBjaHVuayA9IG5ldyBVaW50OEFycmF5KGZpbGVEYXRhLCBwb3NpdGlvbiwgbGVuZ3RoKTsKICAgICAgcG9zaXRpb24gKz0gbGVuZ3RoOwoKICAgICAgY29uc3QgYmFzZTY0ID0gYnRvYShTdHJpbmcuZnJvbUNoYXJDb2RlLmFwcGx5KG51bGwsIGNodW5rKSk7CiAgICAgIHlpZWxkIHsKICAgICAgICByZXNwb25zZTogewogICAgICAgICAgYWN0aW9uOiAnYXBwZW5kJywKICAgICAgICAgIGZpbGU6IGZpbGUubmFtZSwKICAgICAgICAgIGRhdGE6IGJhc2U2NCwKICAgICAgICB9LAogICAgICB9OwoKICAgICAgbGV0IHBlcmNlbnREb25lID0gZmlsZURhdGEuYnl0ZUxlbmd0aCA9PT0gMCA/CiAgICAgICAgICAxMDAgOgogICAgICAgICAgTWF0aC5yb3VuZCgocG9zaXRpb24gLyBmaWxlRGF0YS5ieXRlTGVuZ3RoKSAqIDEwMCk7CiAgICAgIHBlcmNlbnQudGV4dENvbnRlbnQgPSBgJHtwZXJjZW50RG9uZX0lIGRvbmVgOwoKICAgIH0gd2hpbGUgKHBvc2l0aW9uIDwgZmlsZURhdGEuYnl0ZUxlbmd0aCk7CiAgfQoKICAvLyBBbGwgZG9uZS4KICB5aWVsZCB7CiAgICByZXNwb25zZTogewogICAgICBhY3Rpb246ICdjb21wbGV0ZScsCiAgICB9CiAgfTsKfQoKc2NvcGUuZ29vZ2xlID0gc2NvcGUuZ29vZ2xlIHx8IHt9OwpzY29wZS5nb29nbGUuY29sYWIgPSBzY29wZS5nb29nbGUuY29sYWIgfHwge307CnNjb3BlLmdvb2dsZS5jb2xhYi5fZmlsZXMgPSB7CiAgX3VwbG9hZEZpbGVzLAogIF91cGxvYWRGaWxlc0NvbnRpbnVlLAp9Owp9KShzZWxmKTsK",
              "ok": true,
              "headers": [
                [
                  "content-type",
                  "application/javascript"
                ]
              ],
              "status": 200,
              "status_text": ""
            }
          },
          "base_uri": "https://localhost:8080/",
          "height": 260
        },
        "id": "k3Xl7aN1FN8E",
        "outputId": "e5475a25-096a-481e-8be6-7711ef89095a"
      },
      "source": [
        "## Load the dataset and create a dataframe\n",
        "data_to_load = files.upload()\n",
        "df = pd.read_csv('diabetes.csv')\n",
        "df.head()"
      ],
      "execution_count": null,
      "outputs": [
        {
          "output_type": "display_data",
          "data": {
            "text/html": [
              "\n",
              "     <input type=\"file\" id=\"files-fc042daa-3432-4a6a-8c6b-9a80a4c5612f\" name=\"files[]\" multiple disabled\n",
              "        style=\"border:none\" />\n",
              "     <output id=\"result-fc042daa-3432-4a6a-8c6b-9a80a4c5612f\">\n",
              "      Upload widget is only available when the cell has been executed in the\n",
              "      current browser session. Please rerun this cell to enable.\n",
              "      </output>\n",
              "      <script src=\"/nbextensions/google.colab/files.js\"></script> "
            ],
            "text/plain": [
              "<IPython.core.display.HTML object>"
            ]
          },
          "metadata": {
            "tags": []
          }
        },
        {
          "output_type": "stream",
          "text": [
            "Saving diabetes.csv to diabetes.csv\n"
          ],
          "name": "stdout"
        },
        {
          "output_type": "execute_result",
          "data": {
            "text/html": [
              "<div>\n",
              "<style scoped>\n",
              "    .dataframe tbody tr th:only-of-type {\n",
              "        vertical-align: middle;\n",
              "    }\n",
              "\n",
              "    .dataframe tbody tr th {\n",
              "        vertical-align: top;\n",
              "    }\n",
              "\n",
              "    .dataframe thead th {\n",
              "        text-align: right;\n",
              "    }\n",
              "</style>\n",
              "<table border=\"1\" class=\"dataframe\">\n",
              "  <thead>\n",
              "    <tr style=\"text-align: right;\">\n",
              "      <th></th>\n",
              "      <th>Pregnancies</th>\n",
              "      <th>Glucose</th>\n",
              "      <th>Pressure</th>\n",
              "      <th>Insulin</th>\n",
              "      <th>BMI</th>\n",
              "      <th>DPF</th>\n",
              "      <th>Age</th>\n",
              "      <th>Social smoker</th>\n",
              "      <th>Social drinker</th>\n",
              "      <th>Outcome</th>\n",
              "    </tr>\n",
              "  </thead>\n",
              "  <tbody>\n",
              "    <tr>\n",
              "      <th>0</th>\n",
              "      <td>0</td>\n",
              "      <td>86</td>\n",
              "      <td>68</td>\n",
              "      <td>0</td>\n",
              "      <td>35.8</td>\n",
              "      <td>0.238</td>\n",
              "      <td>25</td>\n",
              "      <td>1</td>\n",
              "      <td>0</td>\n",
              "      <td>0</td>\n",
              "    </tr>\n",
              "    <tr>\n",
              "      <th>1</th>\n",
              "      <td>0</td>\n",
              "      <td>161</td>\n",
              "      <td>50</td>\n",
              "      <td>0</td>\n",
              "      <td>21.9</td>\n",
              "      <td>0.254</td>\n",
              "      <td>65</td>\n",
              "      <td>0</td>\n",
              "      <td>1</td>\n",
              "      <td>0</td>\n",
              "    </tr>\n",
              "    <tr>\n",
              "      <th>2</th>\n",
              "      <td>0</td>\n",
              "      <td>121</td>\n",
              "      <td>66</td>\n",
              "      <td>165</td>\n",
              "      <td>34.3</td>\n",
              "      <td>0.203</td>\n",
              "      <td>33</td>\n",
              "      <td>0</td>\n",
              "      <td>0</td>\n",
              "      <td>1</td>\n",
              "    </tr>\n",
              "    <tr>\n",
              "      <th>3</th>\n",
              "      <td>0</td>\n",
              "      <td>117</td>\n",
              "      <td>80</td>\n",
              "      <td>53</td>\n",
              "      <td>45.2</td>\n",
              "      <td>0.089</td>\n",
              "      <td>24</td>\n",
              "      <td>1</td>\n",
              "      <td>1</td>\n",
              "      <td>0</td>\n",
              "    </tr>\n",
              "    <tr>\n",
              "      <th>4</th>\n",
              "      <td>0</td>\n",
              "      <td>162</td>\n",
              "      <td>76</td>\n",
              "      <td>100</td>\n",
              "      <td>53.2</td>\n",
              "      <td>0.759</td>\n",
              "      <td>25</td>\n",
              "      <td>1</td>\n",
              "      <td>1</td>\n",
              "      <td>1</td>\n",
              "    </tr>\n",
              "  </tbody>\n",
              "</table>\n",
              "</div>"
            ],
            "text/plain": [
              "   Pregnancies  Glucose  Pressure  ...  Social smoker  Social drinker  Outcome\n",
              "0            0       86        68  ...              1               0        0\n",
              "1            0      161        50  ...              0               1        0\n",
              "2            0      121        66  ...              0               0        1\n",
              "3            0      117        80  ...              1               1        0\n",
              "4            0      162        76  ...              1               1        1\n",
              "\n",
              "[5 rows x 10 columns]"
            ]
          },
          "metadata": {
            "tags": []
          },
          "execution_count": 5
        }
      ]
    },
    {
      "cell_type": "markdown",
      "metadata": {
        "id": "-P0Jm7tvayA_"
      },
      "source": [
        "## Exploratory Data Analysis and Data Pre-Processing"
      ]
    },
    {
      "cell_type": "code",
      "metadata": {
        "colab": {
          "base_uri": "https://localhost:8080/"
        },
        "id": "HUmLXPpiDB7K",
        "outputId": "321ce75a-738a-41b7-de00-41b8b1b9885b"
      },
      "source": [
        "## Get some information about columns and data types\n",
        "df.info()"
      ],
      "execution_count": null,
      "outputs": [
        {
          "output_type": "stream",
          "text": [
            "<class 'pandas.core.frame.DataFrame'>\n",
            "RangeIndex: 500 entries, 0 to 499\n",
            "Data columns (total 10 columns):\n",
            " #   Column          Non-Null Count  Dtype  \n",
            "---  ------          --------------  -----  \n",
            " 0   Pregnancies     500 non-null    int64  \n",
            " 1   Glucose         500 non-null    int64  \n",
            " 2   Pressure        500 non-null    int64  \n",
            " 3   Insulin         500 non-null    int64  \n",
            " 4   BMI             500 non-null    float64\n",
            " 5   DPF             500 non-null    float64\n",
            " 6   Age             500 non-null    int64  \n",
            " 7   Social smoker   500 non-null    int64  \n",
            " 8   Social drinker  500 non-null    int64  \n",
            " 9   Outcome         500 non-null    int64  \n",
            "dtypes: float64(2), int64(8)\n",
            "memory usage: 39.2 KB\n"
          ],
          "name": "stdout"
        }
      ]
    },
    {
      "cell_type": "code",
      "metadata": {
        "colab": {
          "base_uri": "https://localhost:8080/"
        },
        "id": "ejJG4TSjJrZd",
        "outputId": "ba7844b9-24ee-469b-efbe-c63ab96a5669"
      },
      "source": [
        "## Check for null and missing values\n",
        "print(df.isnull().values.any())"
      ],
      "execution_count": null,
      "outputs": [
        {
          "output_type": "stream",
          "text": [
            "False\n"
          ],
          "name": "stdout"
        }
      ]
    },
    {
      "cell_type": "code",
      "metadata": {
        "colab": {
          "base_uri": "https://localhost:8080/",
          "height": 359
        },
        "id": "LMjQwm8PLiVw",
        "outputId": "329e45b1-1f1c-4684-f531-2634cf531c86"
      },
      "source": [
        "## Check for statistical details\n",
        "df.describe().T"
      ],
      "execution_count": null,
      "outputs": [
        {
          "output_type": "execute_result",
          "data": {
            "text/html": [
              "<div>\n",
              "<style scoped>\n",
              "    .dataframe tbody tr th:only-of-type {\n",
              "        vertical-align: middle;\n",
              "    }\n",
              "\n",
              "    .dataframe tbody tr th {\n",
              "        vertical-align: top;\n",
              "    }\n",
              "\n",
              "    .dataframe thead th {\n",
              "        text-align: right;\n",
              "    }\n",
              "</style>\n",
              "<table border=\"1\" class=\"dataframe\">\n",
              "  <thead>\n",
              "    <tr style=\"text-align: right;\">\n",
              "      <th></th>\n",
              "      <th>count</th>\n",
              "      <th>mean</th>\n",
              "      <th>std</th>\n",
              "      <th>min</th>\n",
              "      <th>25%</th>\n",
              "      <th>50%</th>\n",
              "      <th>75%</th>\n",
              "      <th>max</th>\n",
              "    </tr>\n",
              "  </thead>\n",
              "  <tbody>\n",
              "    <tr>\n",
              "      <th>Pregnancies</th>\n",
              "      <td>500.0</td>\n",
              "      <td>3.794000</td>\n",
              "      <td>3.340941</td>\n",
              "      <td>0.000</td>\n",
              "      <td>1.0000</td>\n",
              "      <td>3.0000</td>\n",
              "      <td>6.000</td>\n",
              "      <td>15.000</td>\n",
              "    </tr>\n",
              "    <tr>\n",
              "      <th>Glucose</th>\n",
              "      <td>500.0</td>\n",
              "      <td>119.094000</td>\n",
              "      <td>28.666788</td>\n",
              "      <td>33.000</td>\n",
              "      <td>99.0000</td>\n",
              "      <td>114.0000</td>\n",
              "      <td>137.000</td>\n",
              "      <td>189.000</td>\n",
              "    </tr>\n",
              "    <tr>\n",
              "      <th>Pressure</th>\n",
              "      <td>500.0</td>\n",
              "      <td>72.392000</td>\n",
              "      <td>12.378076</td>\n",
              "      <td>24.000</td>\n",
              "      <td>64.0000</td>\n",
              "      <td>72.0000</td>\n",
              "      <td>80.000</td>\n",
              "      <td>122.000</td>\n",
              "    </tr>\n",
              "    <tr>\n",
              "      <th>Insulin</th>\n",
              "      <td>500.0</td>\n",
              "      <td>86.692000</td>\n",
              "      <td>116.681405</td>\n",
              "      <td>0.000</td>\n",
              "      <td>0.0000</td>\n",
              "      <td>53.0000</td>\n",
              "      <td>135.000</td>\n",
              "      <td>846.000</td>\n",
              "    </tr>\n",
              "    <tr>\n",
              "      <th>BMI</th>\n",
              "      <td>500.0</td>\n",
              "      <td>31.971600</td>\n",
              "      <td>6.980559</td>\n",
              "      <td>0.000</td>\n",
              "      <td>27.4000</td>\n",
              "      <td>32.0000</td>\n",
              "      <td>35.925</td>\n",
              "      <td>53.200</td>\n",
              "    </tr>\n",
              "    <tr>\n",
              "      <th>DPF</th>\n",
              "      <td>500.0</td>\n",
              "      <td>0.469446</td>\n",
              "      <td>0.326820</td>\n",
              "      <td>0.084</td>\n",
              "      <td>0.2445</td>\n",
              "      <td>0.3725</td>\n",
              "      <td>0.616</td>\n",
              "      <td>2.288</td>\n",
              "    </tr>\n",
              "    <tr>\n",
              "      <th>Age</th>\n",
              "      <td>500.0</td>\n",
              "      <td>33.206000</td>\n",
              "      <td>11.772542</td>\n",
              "      <td>21.000</td>\n",
              "      <td>24.0000</td>\n",
              "      <td>29.0000</td>\n",
              "      <td>41.000</td>\n",
              "      <td>81.000</td>\n",
              "    </tr>\n",
              "    <tr>\n",
              "      <th>Social smoker</th>\n",
              "      <td>500.0</td>\n",
              "      <td>0.488000</td>\n",
              "      <td>0.500357</td>\n",
              "      <td>0.000</td>\n",
              "      <td>0.0000</td>\n",
              "      <td>0.0000</td>\n",
              "      <td>1.000</td>\n",
              "      <td>1.000</td>\n",
              "    </tr>\n",
              "    <tr>\n",
              "      <th>Social drinker</th>\n",
              "      <td>500.0</td>\n",
              "      <td>0.514000</td>\n",
              "      <td>0.500305</td>\n",
              "      <td>0.000</td>\n",
              "      <td>0.0000</td>\n",
              "      <td>1.0000</td>\n",
              "      <td>1.000</td>\n",
              "      <td>1.000</td>\n",
              "    </tr>\n",
              "    <tr>\n",
              "      <th>Outcome</th>\n",
              "      <td>500.0</td>\n",
              "      <td>0.332000</td>\n",
              "      <td>0.471403</td>\n",
              "      <td>0.000</td>\n",
              "      <td>0.0000</td>\n",
              "      <td>0.0000</td>\n",
              "      <td>1.000</td>\n",
              "      <td>1.000</td>\n",
              "    </tr>\n",
              "  </tbody>\n",
              "</table>\n",
              "</div>"
            ],
            "text/plain": [
              "                count        mean         std  ...       50%      75%      max\n",
              "Pregnancies     500.0    3.794000    3.340941  ...    3.0000    6.000   15.000\n",
              "Glucose         500.0  119.094000   28.666788  ...  114.0000  137.000  189.000\n",
              "Pressure        500.0   72.392000   12.378076  ...   72.0000   80.000  122.000\n",
              "Insulin         500.0   86.692000  116.681405  ...   53.0000  135.000  846.000\n",
              "BMI             500.0   31.971600    6.980559  ...   32.0000   35.925   53.200\n",
              "DPF             500.0    0.469446    0.326820  ...    0.3725    0.616    2.288\n",
              "Age             500.0   33.206000   11.772542  ...   29.0000   41.000   81.000\n",
              "Social smoker   500.0    0.488000    0.500357  ...    0.0000    1.000    1.000\n",
              "Social drinker  500.0    0.514000    0.500305  ...    1.0000    1.000    1.000\n",
              "Outcome         500.0    0.332000    0.471403  ...    0.0000    1.000    1.000\n",
              "\n",
              "[10 rows x 8 columns]"
            ]
          },
          "metadata": {
            "tags": []
          },
          "execution_count": 8
        }
      ]
    },
    {
      "cell_type": "code",
      "metadata": {
        "colab": {
          "base_uri": "https://localhost:8080/",
          "height": 553
        },
        "id": "dNKAaOhnge7U",
        "outputId": "726b6de5-01f1-41ea-d5b2-9be5a8ee23b3"
      },
      "source": [
        "## check for histograms\n",
        "df.hist(bins=10,figsize=(9,9))\n",
        "plt.show()"
      ],
      "execution_count": null,
      "outputs": [
        {
          "output_type": "display_data",
          "data": {
            "image/png": "[encoded data removed]",
            "text/plain": [
              "<Figure size 648x648 with 12 Axes>"
            ]
          },
          "metadata": {
            "tags": [],
            "needs_background": "light"
          }
        }
      ]
    },
    {
      "cell_type": "markdown",
      "metadata": {
        "id": "xDKKP3RHJdAO"
      },
      "source": [
        "Based on the information we received from `df.info()`, it seems that there is not any null values in the dataset, but the minimum value of 0 for \"BMI\" and \"Insulin\" ( observed in both `df.describe()` and **histograms** ) is meaningless and it might indicate the presence of missing values in these two columns. We need to replace those zeros with NaN and then replacing the NaN's with the \"BMI\" and \"Insulin\" mean values. The reason for doing this is to remove the effect of zeros in mean calculations. \n",
        "It should be noted that we can replace the zeros with a random sampling number or even median values. Also, we do not remove the rows with missing values as it decrease the size of dataset significantly."
      ]
    },
    {
      "cell_type": "code",
      "metadata": {
        "id": "ChURJKHGLQ_-"
      },
      "source": [
        "## Replace the zeros with \"NaN\"\n",
        "df[[\"BMI\"]]=df[[\"BMI\"]].replace(0,np.NaN)\n",
        "df[[\"Insulin\"]]=df[[\"Insulin\"]].replace(0,np.NaN)"
      ],
      "execution_count": null,
      "outputs": []
    },
    {
      "cell_type": "code",
      "metadata": {
        "colab": {
          "base_uri": "https://localhost:8080/"
        },
        "id": "2a-hSm3WzoHG",
        "outputId": "22069c52-3306-45d3-dc2d-8fb09f764beb"
      },
      "source": [
        "df.isnull().sum()"
      ],
      "execution_count": null,
      "outputs": [
        {
          "output_type": "execute_result",
          "data": {
            "text/plain": [
              "Pregnancies         0\n",
              "Glucose             0\n",
              "Pressure            0\n",
              "Insulin           221\n",
              "BMI                 3\n",
              "DPF                 0\n",
              "Age                 0\n",
              "Social smoker       0\n",
              "Social drinker      0\n",
              "Outcome             0\n",
              "dtype: int64"
            ]
          },
          "metadata": {
            "tags": []
          },
          "execution_count": 11
        }
      ]
    },
    {
      "cell_type": "code",
      "metadata": {
        "id": "rUNyXlSVz6gm"
      },
      "source": [
        "## Replace the \"NaN\" values with the mean\n",
        "df['BMI'].fillna(df['BMI'].mean(), inplace=True)\n",
        "df['Insulin'].fillna(df['Insulin'].mean(), inplace=True)"
      ],
      "execution_count": null,
      "outputs": []
    },
    {
      "cell_type": "code",
      "metadata": {
        "colab": {
          "base_uri": "https://localhost:8080/"
        },
        "id": "KVk2DGkb0SJx",
        "outputId": "82cd92bf-628d-4d79-f574-48f19c733f01"
      },
      "source": [
        "df.isnull().sum()"
      ],
      "execution_count": null,
      "outputs": [
        {
          "output_type": "execute_result",
          "data": {
            "text/plain": [
              "Pregnancies       0\n",
              "Glucose           0\n",
              "Pressure          0\n",
              "Insulin           0\n",
              "BMI               0\n",
              "DPF               0\n",
              "Age               0\n",
              "Social smoker     0\n",
              "Social drinker    0\n",
              "Outcome           0\n",
              "dtype: int64"
            ]
          },
          "metadata": {
            "tags": []
          },
          "execution_count": 13
        }
      ]
    },
    {
      "cell_type": "code",
      "metadata": {
        "colab": {
          "base_uri": "https://localhost:8080/",
          "height": 346
        },
        "id": "gzHDf261HpdW",
        "outputId": "f9c86d4e-5287-4ba4-e431-52a5a6c471b2"
      },
      "source": [
        "## Check for target variable distribution (i.e., the 'Output' column)\n",
        "sns.countplot(x = df['Outcome'],label=\"Count\")\n",
        "plt.title('Diabetes Outcome Distribution') \n",
        "plt.show()\n",
        "\n",
        "print(\"There are a total of %s observations in this dataset\" %(len(df)))\n",
        "print(\"The number of True outcomes is %s which is %.1f percent of the totoal observations\" \n",
        "      %(len(df.loc[df['Outcome']==1]),(len(df.loc[df['Outcome']==1]) / len(df)) * 100))\n",
        "print(\"The number of False outcomes is %s which is %.1f percent of the totoal observations\" \n",
        "      %(len(df.loc[df['Outcome']==0]),(len(df.loc[df['Outcome']==0]) / len(df)) * 100))\n"
      ],
      "execution_count": null,
      "outputs": [
        {
          "output_type": "display_data",
          "data": {
            "image/png": "[encoded data removed]",
            "text/plain": [
              "<Figure size 432x288 with 1 Axes>"
            ]
          },
          "metadata": {
            "tags": [],
            "needs_background": "light"
          }
        },
        {
          "output_type": "stream",
          "text": [
            "There are a total of 500 observations in this dataset\n",
            "The number of True outcomes is 166 which is 33.2 percent of the totoal observations\n",
            "The number of False outcomes is 334 which is 66.8 percent of the totoal observations\n"
          ],
          "name": "stdout"
        }
      ]
    },
    {
      "cell_type": "code",
      "metadata": {
        "colab": {
          "base_uri": "https://localhost:8080/",
          "height": 600
        },
        "id": "f1fZyg5sRT9g",
        "outputId": "a8a24ec2-79fd-42c9-d016-b15291881b63"
      },
      "source": [
        "## Check for correlations\n",
        "fig, ax = plt.subplots(figsize=(9,9))\n",
        "sns.heatmap(df.corr(), cmap='Oranges', annot=True, square=False, ax=ax)\n",
        "plt.show()\n"
      ],
      "execution_count": null,
      "outputs": [
        {
          "output_type": "display_data",
          "data": {
            "image/png": "[encoded data removed]",
            "text/plain": [
              "<Figure size 648x648 with 2 Axes>"
            ]
          },
          "metadata": {
            "tags": [],
            "needs_background": "light"
          }
        }
      ]
    },
    {
      "cell_type": "markdown",
      "metadata": {
        "id": "n4R0QR8VUnox"
      },
      "source": [
        "It seems that the features do not have strong correlation with each other and multicollinearity is not an issue in this dataset. "
      ]
    },
    {
      "cell_type": "markdown",
      "metadata": {
        "id": "9k81MaUqGS8m"
      },
      "source": [
        "**Normalization:** KNN algorithms are distance-based algorithms and we need to normalize our data before feeding it to the model in order to achieve a good performance. It is not necessary to normalize the inputs for the other models, however, it is recommended to do that. We do not normalize binary features, i.e. \"Social smoker\" and \"Social drinker\"."
      ]
    },
    {
      "cell_type": "code",
      "metadata": {
        "colab": {
          "base_uri": "https://localhost:8080/",
          "height": 204
        },
        "id": "-4jhacH90vXy",
        "outputId": "e7d42d47-af57-418d-a6d5-be8b4155c735"
      },
      "source": [
        "## Normalize the numeric features \n",
        "SC = StandardScaler()\n",
        "X_to_be_SC = df.drop(['Outcome','Social smoker','Social drinker'], axis=1)\n",
        "X_SC = pd.DataFrame(SC.fit_transform(X_to_be_SC), columns=X_to_be_SC.columns)\n",
        "X_SC.head()"
      ],
      "execution_count": null,
      "outputs": [
        {
          "output_type": "execute_result",
          "data": {
            "text/html": [
              "<div>\n",
              "<style scoped>\n",
              "    .dataframe tbody tr th:only-of-type {\n",
              "        vertical-align: middle;\n",
              "    }\n",
              "\n",
              "    .dataframe tbody tr th {\n",
              "        vertical-align: top;\n",
              "    }\n",
              "\n",
              "    .dataframe thead th {\n",
              "        text-align: right;\n",
              "    }\n",
              "</style>\n",
              "<table border=\"1\" class=\"dataframe\">\n",
              "  <thead>\n",
              "    <tr style=\"text-align: right;\">\n",
              "      <th></th>\n",
              "      <th>Pregnancies</th>\n",
              "      <th>Glucose</th>\n",
              "      <th>Pressure</th>\n",
              "      <th>Insulin</th>\n",
              "      <th>BMI</th>\n",
              "      <th>DPF</th>\n",
              "      <th>Age</th>\n",
              "    </tr>\n",
              "  </thead>\n",
              "  <tbody>\n",
              "    <tr>\n",
              "      <th>0</th>\n",
              "      <td>-1.136745</td>\n",
              "      <td>-1.155593</td>\n",
              "      <td>-0.355176</td>\n",
              "      <td>0.000000</td>\n",
              "      <td>0.557905</td>\n",
              "      <td>-0.708885</td>\n",
              "      <td>-0.697744</td>\n",
              "    </tr>\n",
              "    <tr>\n",
              "      <th>1</th>\n",
              "      <td>-1.136745</td>\n",
              "      <td>1.463295</td>\n",
              "      <td>-1.810817</td>\n",
              "      <td>0.000000</td>\n",
              "      <td>-1.575246</td>\n",
              "      <td>-0.659880</td>\n",
              "      <td>2.703396</td>\n",
              "    </tr>\n",
              "    <tr>\n",
              "      <th>2</th>\n",
              "      <td>-1.136745</td>\n",
              "      <td>0.066555</td>\n",
              "      <td>-0.516914</td>\n",
              "      <td>0.110308</td>\n",
              "      <td>0.327709</td>\n",
              "      <td>-0.816085</td>\n",
              "      <td>-0.017516</td>\n",
              "    </tr>\n",
              "    <tr>\n",
              "      <th>3</th>\n",
              "      <td>-1.136745</td>\n",
              "      <td>-0.073119</td>\n",
              "      <td>0.615251</td>\n",
              "      <td>-1.171541</td>\n",
              "      <td>2.000468</td>\n",
              "      <td>-1.165251</td>\n",
              "      <td>-0.782772</td>\n",
              "    </tr>\n",
              "    <tr>\n",
              "      <th>4</th>\n",
              "      <td>-1.136745</td>\n",
              "      <td>1.498214</td>\n",
              "      <td>0.291775</td>\n",
              "      <td>-0.633623</td>\n",
              "      <td>3.228180</td>\n",
              "      <td>0.886862</td>\n",
              "      <td>-0.697744</td>\n",
              "    </tr>\n",
              "  </tbody>\n",
              "</table>\n",
              "</div>"
            ],
            "text/plain": [
              "   Pregnancies   Glucose  Pressure   Insulin       BMI       DPF       Age\n",
              "0    -1.136745 -1.155593 -0.355176  0.000000  0.557905 -0.708885 -0.697744\n",
              "1    -1.136745  1.463295 -1.810817  0.000000 -1.575246 -0.659880  2.703396\n",
              "2    -1.136745  0.066555 -0.516914  0.110308  0.327709 -0.816085 -0.017516\n",
              "3    -1.136745 -0.073119  0.615251 -1.171541  2.000468 -1.165251 -0.782772\n",
              "4    -1.136745  1.498214  0.291775 -0.633623  3.228180  0.886862 -0.697744"
            ]
          },
          "metadata": {
            "tags": []
          },
          "execution_count": 16
        }
      ]
    },
    {
      "cell_type": "code",
      "metadata": {
        "id": "M1i3RtGf62uT"
      },
      "source": [
        "## Specify the feature and target datasets [X and y]\n",
        "X = pd.concat([X_SC, df[['Social smoker','Social drinker']] ], axis=1 )\n",
        "y = df[['Outcome']]"
      ],
      "execution_count": null,
      "outputs": []
    },
    {
      "cell_type": "code",
      "metadata": {
        "id": "TWjJNjXZDvp0",
        "colab": {
          "base_uri": "https://localhost:8080/"
        },
        "outputId": "4959bf5a-98a1-4b6e-ffc4-ec12d51c4ce0"
      },
      "source": [
        "## Split the dataset into training, validation, and test sets  (50,30,20 ratios)\n",
        "\n",
        "random_state=32\n",
        "X_train, X_test, y_train, y_test = train_test_split(X,y,test_size=.2, random_state=random_state, stratify=y) \n",
        "X_train, X_valid, y_train, y_valid = train_test_split(X_train, y_train, test_size=0.3/0.8, random_state=random_state, stratify=y_train) \n",
        "# The reason that we set a value for \"stratify\" parameter is to have the same proportion of outcomes in training, validation, and test sets.\n",
        "\n",
        "print(\"Training set size is: %s (%.f percent) \" %(len(X_train),len(X_train)/len(df)*100))\n",
        "print(\"Validation set size is: %s (%.f percent) \" %(len(X_valid),len(X_valid)/len(df)*100))\n",
        "print(\"Test set size is: %s (%.f percent) \" %(len(X_test),len(X_test)/len(df)*100))\n"
      ],
      "execution_count": null,
      "outputs": [
        {
          "output_type": "stream",
          "text": [
            "Training set size is: 250 (50 percent) \n",
            "Validation set size is: 150 (30 percent) \n",
            "Test set size is: 100 (20 percent) \n"
          ],
          "name": "stdout"
        }
      ]
    },
    {
      "cell_type": "code",
      "metadata": {
        "colab": {
          "base_uri": "https://localhost:8080/",
          "height": 173
        },
        "id": "gwrZo5qbFla7",
        "outputId": "141724e8-7c85-4ee8-efa6-c62f18887984"
      },
      "source": [
        "## Ensure that the distribution of target variable in training, validation, and test sets is similar to the original dataset\n",
        "\n",
        "outcome_dist = []\n",
        "Sets = ['Original dataset', 'Training set', 'Validation set', 'Test set']\n",
        "j = 0\n",
        "for i in [y, y_train, y_valid, y_test]:\n",
        "  outcome_0_percent = (len(i.loc[i['Outcome']==0]) / len(i)) * 100\n",
        "  outcome_1_percent = (len(i.loc[i['Outcome']==1]) / len(i)) * 100\n",
        "  i_dist = [ Sets[j], outcome_0_percent, outcome_1_percent]\n",
        "  outcome_dist.append(i_dist)\n",
        "  j += 1\n",
        "outcome_dists = pd.DataFrame(outcome_dist, columns=['Set', 'Outcome=0', 'Outcome=1'])\n",
        "outcome_dists\n"
      ],
      "execution_count": null,
      "outputs": [
        {
          "output_type": "execute_result",
          "data": {
            "text/html": [
              "<div>\n",
              "<style scoped>\n",
              "    .dataframe tbody tr th:only-of-type {\n",
              "        vertical-align: middle;\n",
              "    }\n",
              "\n",
              "    .dataframe tbody tr th {\n",
              "        vertical-align: top;\n",
              "    }\n",
              "\n",
              "    .dataframe thead th {\n",
              "        text-align: right;\n",
              "    }\n",
              "</style>\n",
              "<table border=\"1\" class=\"dataframe\">\n",
              "  <thead>\n",
              "    <tr style=\"text-align: right;\">\n",
              "      <th></th>\n",
              "      <th>Set</th>\n",
              "      <th>Outcome=0</th>\n",
              "      <th>Outcome=1</th>\n",
              "    </tr>\n",
              "  </thead>\n",
              "  <tbody>\n",
              "    <tr>\n",
              "      <th>0</th>\n",
              "      <td>Original dataset</td>\n",
              "      <td>66.800000</td>\n",
              "      <td>33.200000</td>\n",
              "    </tr>\n",
              "    <tr>\n",
              "      <th>1</th>\n",
              "      <td>Training set</td>\n",
              "      <td>66.800000</td>\n",
              "      <td>33.200000</td>\n",
              "    </tr>\n",
              "    <tr>\n",
              "      <th>2</th>\n",
              "      <td>Validation set</td>\n",
              "      <td>66.666667</td>\n",
              "      <td>33.333333</td>\n",
              "    </tr>\n",
              "    <tr>\n",
              "      <th>3</th>\n",
              "      <td>Test set</td>\n",
              "      <td>67.000000</td>\n",
              "      <td>33.000000</td>\n",
              "    </tr>\n",
              "  </tbody>\n",
              "</table>\n",
              "</div>"
            ],
            "text/plain": [
              "                Set  Outcome=0  Outcome=1\n",
              "0  Original dataset  66.800000  33.200000\n",
              "1      Training set  66.800000  33.200000\n",
              "2    Validation set  66.666667  33.333333\n",
              "3          Test set  67.000000  33.000000"
            ]
          },
          "metadata": {
            "tags": []
          },
          "execution_count": 19
        }
      ]
    },
    {
      "cell_type": "markdown",
      "metadata": {
        "id": "hnkzA3BOhzzl"
      },
      "source": [
        "## Hyper-parameter Optimization"
      ]
    },
    {
      "cell_type": "markdown",
      "metadata": {
        "id": "05fQJNzy7mQc"
      },
      "source": [
        "Given that the hyper-parameter optimization results depend on which samples are used as validation set, we generate 100 random numbers between 1 and 1000 to use them as `random_state` parameter and build 100 different splits of the dataset. A function named `tune()` is written to handle the optimization process. In fact, this function will be called inside another function (`evaluate()`) where by calling it on a model name, for each of the 100 random numbers, the dataset is split into three parts and the hyper-parameters are optimized on the generated validation set and also evaluated on the test set. By doing this, each model is validated and evaluated 100 times. In the end, the results are presented as box plots and also as a table of descriptive statistics in order to make comparisons easier."
      ]
    },
    {
      "cell_type": "code",
      "metadata": {
        "colab": {
          "base_uri": "https://localhost:8080/"
        },
        "id": "Y-WSYuHTrxK7",
        "outputId": "67a43b33-ebb3-44d9-e50a-143415384a35"
      },
      "source": [
        "## Generate random numbers (to use them for the random_state parameter)\n",
        "\n",
        "random_iterations = range(0,100)\n",
        "randomlist = [] \n",
        "for i in random_iterations: \n",
        "  n = random.randint(1,1000) \n",
        "  randomlist.append(n)\n",
        "randomlist[:10]"
      ],
      "execution_count": null,
      "outputs": [
        {
          "output_type": "execute_result",
          "data": {
            "text/plain": [
              "[313, 837, 633, 79, 780, 718, 952, 153, 378, 401]"
            ]
          },
          "metadata": {
            "tags": []
          },
          "execution_count": 20
        }
      ]
    },
    {
      "cell_type": "code",
      "metadata": {
        "id": "gnLMRalXy8v8"
      },
      "source": [
        "## hyper-parameter sets\n",
        "c_set = np.logspace(-2, 2, 10)\n",
        "n_neighbors_set = range(1,25)\n",
        "param_grid_tree= {\n",
        "                \"criterion\":['gini','entropy'],\n",
        "                \"max_depth\":range(1,10),\n",
        "                \"min_samples_split\":range(2,10), \n",
        "                \"min_samples_leaf\":range(1,10),\n",
        "  }\n",
        "param_grid_mlp = {\n",
        "      'hidden_layer_sizes': [(50,50), (50,50,50)],\n",
        "      'activation': ['tanh', 'relu'],\n",
        "      'solver': ['sgd', 'adam'],\n",
        "      'alpha': [0.01, 0.1, 1],\n",
        "      'learning_rate': ['constant','adaptive'],\n",
        "  }"
      ],
      "execution_count": null,
      "outputs": []
    },
    {
      "cell_type": "markdown",
      "metadata": {
        "id": "Aj6FbQki_QQb"
      },
      "source": [
        "For the purpose of hyper-parameter optimization, we use Grid Search approach where the model is trained using a set of parameters and evaluated on a validation set. The set of parameters that make the model have the best performance on validation set is selected as the optimal set. The popular Sckit Learn package provides such an approach but it validated the models using K-fold Cross Validation score where there is no explicit validation set. As we have explicit validation sets, we utilize another package called \"hypopt\" which provides Grid Search method for both cases of having implicit (K-fold Cross Validation) and explicit validation set. "
      ]
    },
    {
      "cell_type": "code",
      "metadata": {
        "id": "jmoHR7RU2CJP"
      },
      "source": [
        "## Define a function for hyper-parameter tuning \n",
        "\n",
        "def tune(model_name, X_train, X_valid, y_train, y_valid):\n",
        "  \"\"\" This function takes 5 parameters and returns the optimal parameters and the respective validation accuracy.\n",
        "  it is called inside the evaluate function where all theses required parameters are defined and specified \"\"\" \n",
        "  Valid_Acc_list = []\n",
        "  if model_name == 'LogReg':\n",
        "    for c in c_set:\n",
        "      model = LogisticRegression(C=c)\n",
        "      model.fit(X_train,y_train)\n",
        "      Valid_Acc_list.append(model.score(X_valid,y_valid))\n",
        "    best_param = c_set[np.argmax(Valid_Acc_list)]\n",
        "    best_valid_acc = max(Valid_Acc_list)\n",
        "  elif model_name == 'knn':\n",
        "    for n_neighbors in n_neighbors_set:\n",
        "      model = KNeighborsClassifier(n_neighbors)\n",
        "      model.fit(X_train,y_train)\n",
        "      Valid_Acc_list.append(model.score(X_valid,y_valid))\n",
        "    best_param = n_neighbors_set[np.argmax(Valid_Acc_list)]\n",
        "    best_valid_acc = max(Valid_Acc_list)\n",
        "  elif model_name == 'tree':\n",
        "    model = DecisionTreeClassifier()\n",
        "    best_model = GridSearch(model = model, param_grid = param_grid_tree)\n",
        "    best_model.fit(X_train, y_train, X_valid, y_valid)\n",
        "    for parameter,score in best_model.get_param_scores():\n",
        "      Valid_Acc_list.append(score)\n",
        "      if score >= max(Valid_Acc_list):\n",
        "        best_param = parameter\n",
        "    best_valid_acc = max(Valid_Acc_list)\n",
        "  else:\n",
        "    model = MLPClassifier(max_iter=1000)\n",
        "    best_model = GridSearch(model = model , param_grid = param_grid_mlp)\n",
        "    best_model.fit(X_train, y_train, X_valid, y_valid)\n",
        "    for parameter,score in best_model.get_param_scores():\n",
        "      Valid_Acc_list.append(score)\n",
        "      if score >= max(Valid_Acc_list):\n",
        "        best_param = parameter\n",
        "    best_valid_acc = max(Valid_Acc_list)\n",
        "  return best_param , best_valid_acc\n",
        "\n"
      ],
      "execution_count": null,
      "outputs": []
    },
    {
      "cell_type": "markdown",
      "metadata": {
        "id": "45NJrkcI198_"
      },
      "source": [
        "## Model Evaluation"
      ]
    },
    {
      "cell_type": "markdown",
      "metadata": {
        "id": "Lnwvb8lfNJOQ"
      },
      "source": [
        "In this section, a function is written to handle the evaluation process of each model. The `evaluate()` function takes two parameters of `model_name` and `n_runs` and returns the evaluation results as a table. Indeed, by using the first `n_runs` random numbers generated before, each model is evaluated `n_runs` times and the results of the runs can be visualized as box plots for the purpose of comparisons. In other words, the models can be compared to each other using their descriptive statistics of evaluation results. "
      ]
    },
    {
      "cell_type": "code",
      "metadata": {
        "id": "NKuKnEH-9x52"
      },
      "source": [
        "## Define a function for the evaluation \n",
        "\n",
        "def evaluate(model_name,n_run):\n",
        "  \"\"\" This function takes one of these model names: {'LogReg', 'knn','tree','mlp'} and it returns the validation\n",
        "   and evaluation results of the model on validation and test sets that have been created using the first n_run\n",
        "   random numbers fromm the previously generated randomlist.\n",
        "  \"\"\"\n",
        "  Results = []\n",
        "  for s in randomlist[:n_run]:\n",
        "\n",
        "    ## create training, validation, and test sets (50% for training set, 30% for validation set, 20% for test set)\n",
        "    X_train, X_test, y_train, y_test = train_test_split(X,y,test_size=.2, random_state=s, stratify=y) \n",
        "    X_train, X_valid, y_train, y_valid = train_test_split(X_train, y_train, test_size=0.3/0.8, random_state=s, stratify=y_train) \n",
        "    \n",
        "    ## tune/validate the model \n",
        "    best_param, best_valid_acc= tune(model_name, X_train, X_valid, y_train, y_valid)\n",
        "\n",
        "    ## initialize the validated model\n",
        "    if model_name == 'LogReg':\n",
        "      model = LogisticRegression(C = best_param)\n",
        "    elif model_name == 'knn':\n",
        "      model = KNeighborsClassifier(n_neighbors = best_param)\n",
        "    elif model_name == 'tree':\n",
        "      model = DecisionTreeClassifier(criterion=best_param['criterion'],                  \n",
        "                                  max_depth=best_param['max_depth'], \n",
        "                                  min_samples_split=best_param['min_samples_split'], \n",
        "                                  min_samples_leaf=best_param['min_samples_leaf'],\n",
        "                                  random_state=s)\n",
        "    else:\n",
        "      model = MLPClassifier(hidden_layer_sizes=best_param['hidden_layer_sizes'],          \n",
        "                        activation=best_param['activation'], \n",
        "                        solver=best_param['solver'],\n",
        "                        alpha=best_param['alpha'],\n",
        "                        learning_rate=best_param['learning_rate'],\n",
        "                        max_iter=1000, \n",
        "                        random_state=s)\n",
        "      \n",
        "    ## Re-train the validated model on the training set\n",
        "    model.fit(X_train, y_train.values.ravel())\n",
        "\n",
        "    ## Evaluate the model on test set\n",
        "    y_pred = model.predict(X_test)\n",
        "    test_accuracy = model.score(X_test,y_test)\n",
        "    TP = confusion_matrix(y_test, y_pred)[0, 0]\n",
        "    FP = confusion_matrix(y_test, y_pred)[1, 0]\n",
        "    TN = confusion_matrix(y_test, y_pred)[1, 1]\n",
        "    FN = confusion_matrix(y_test, y_pred)[0, 1]\n",
        "    Result = [s, type(model).__name__,best_param, best_valid_acc, test_accuracy, TP/(TP+FN), TN/(TN+FP)]\n",
        "    Results.append(Result)\n",
        "  Results = pd.DataFrame(Results, columns=['random_state', 'Model',  'Hyper-parameters',  'Validation Accuracy', 'Test Accuracy', 'Sensitivity', 'Specificity'])\n",
        "  return Results\n"
      ],
      "execution_count": null,
      "outputs": []
    },
    {
      "cell_type": "code",
      "metadata": {
        "colab": {
          "base_uri": "https://localhost:8080/",
          "height": 179
        },
        "id": "mR3rt72VFNiH",
        "outputId": "113af68a-d09e-4545-e952-2a5cc5780131"
      },
      "source": [
        "## see an example: evaluation of knn model with the first 3 random numbers from the generated randomlist\n",
        "log_reg_results = evaluate('knn',3)\n",
        "output.clear()\n",
        "log_reg_results"
      ],
      "execution_count": null,
      "outputs": [
        {
          "output_type": "execute_result",
          "data": {
            "text/html": [
              "<div>\n",
              "<style scoped>\n",
              "    .dataframe tbody tr th:only-of-type {\n",
              "        vertical-align: middle;\n",
              "    }\n",
              "\n",
              "    .dataframe tbody tr th {\n",
              "        vertical-align: top;\n",
              "    }\n",
              "\n",
              "    .dataframe thead th {\n",
              "        text-align: right;\n",
              "    }\n",
              "</style>\n",
              "<table border=\"1\" class=\"dataframe\">\n",
              "  <thead>\n",
              "    <tr style=\"text-align: right;\">\n",
              "      <th></th>\n",
              "      <th>random_state</th>\n",
              "      <th>Model</th>\n",
              "      <th>Hyper-parameters</th>\n",
              "      <th>Validation Accuracy</th>\n",
              "      <th>Test Accuracy</th>\n",
              "      <th>Sensitivity</th>\n",
              "      <th>Specificity</th>\n",
              "    </tr>\n",
              "  </thead>\n",
              "  <tbody>\n",
              "    <tr>\n",
              "      <th>0</th>\n",
              "      <td>313</td>\n",
              "      <td>KNeighborsClassifier</td>\n",
              "      <td>20</td>\n",
              "      <td>0.813333</td>\n",
              "      <td>0.79</td>\n",
              "      <td>0.955224</td>\n",
              "      <td>0.454545</td>\n",
              "    </tr>\n",
              "    <tr>\n",
              "      <th>1</th>\n",
              "      <td>837</td>\n",
              "      <td>KNeighborsClassifier</td>\n",
              "      <td>23</td>\n",
              "      <td>0.806667</td>\n",
              "      <td>0.75</td>\n",
              "      <td>0.910448</td>\n",
              "      <td>0.424242</td>\n",
              "    </tr>\n",
              "    <tr>\n",
              "      <th>2</th>\n",
              "      <td>633</td>\n",
              "      <td>KNeighborsClassifier</td>\n",
              "      <td>14</td>\n",
              "      <td>0.786667</td>\n",
              "      <td>0.81</td>\n",
              "      <td>0.940299</td>\n",
              "      <td>0.545455</td>\n",
              "    </tr>\n",
              "  </tbody>\n",
              "</table>\n",
              "</div>"
            ],
            "text/plain": [
              "   random_state                 Model  ...  Sensitivity  Specificity\n",
              "0           313  KNeighborsClassifier  ...     0.955224     0.454545\n",
              "1           837  KNeighborsClassifier  ...     0.910448     0.424242\n",
              "2           633  KNeighborsClassifier  ...     0.940299     0.545455\n",
              "\n",
              "[3 rows x 7 columns]"
            ]
          },
          "metadata": {
            "tags": []
          },
          "execution_count": 24
        }
      ]
    },
    {
      "cell_type": "markdown",
      "metadata": {
        "id": "e3Ds24LfpngS"
      },
      "source": [
        "Accuracy is not a good measure of classification performance especially when it comes to having an unbalanced dataset which is in this case. In medical diagnostics, both sensitivity and specificity must be taken into account in order to determine the best diagnostic test.\n",
        "The former is a measure of how well a test can identify sick people and the latter measures how well a test can identify healthy people. \n",
        "The Confusion matrix, sensitivity, and specificity are defined as below:\n",
        "\n",
        "|               |  |Predicted Label   |                   |\n",
        "|---------------|--|------------------|-------------------|\n",
        "|               |  |         1        |          0        |\n",
        "|**True Label** |1 |  True Positive   |  False Negative   |\n",
        "|               |0 |  False Positive  |  True Negative    |\n",
        "\n",
        "* **True Positive - TP:** Sick people correctly identified as sick\n",
        "* **False Positive - FP:** Healthy people incorrectly identified as sick\n",
        "* **True Negative - TN:** Healthy people correctly identified as healthy\n",
        "* **False Negative - FN:** Sick people incorrectly identified as healthy\n",
        "* **Sensitivity** or true positive rate  (TPR) = TP / (TP+FN) **-->** The ratio of people who are correctly diagnosed as having diabetes\n",
        "* **Specificity** or true negative rate  (TNR) = TN / (TN+FP) **-->** The ratio of people who are correctly diagnosed as not having diabetes\n",
        "\n",
        "The following table shows the average of 100 runs achieved in evaluation section (next section). It seems that the both MLP and Logistic Resgression classifiers have the highest average accuracy of around 77% on the test set. However in terms of sensitivity and specificity, the MLP maintains a balance between the two metrics and hence, it can be selected as the best model. The average values of sensitivity and specificity achieved by the MLP classifier are 0.866 and 0.578, respectively. This means that for each 100 individuals having diabetes, this classifier is able to detect 87 of them correctly and for each 100 individuals who do not have diabetes, this classifier is able to detect 58 of them correctly.\n",
        "\n",
        "|     Model             |Accuracy |Sensitivity|Specificity|\n",
        "|-----------------------|---------|-----------|-----------|\n",
        "|LogisticRegression     |  0.773  |  0.914    |   0.487   |\n",
        "|KNeighborsClassifier   |  0.761  |  0.897    |   0.487   |    \n",
        "|DecisionTreeClassifier |  0.745  |  0.841    |   0.550   |          \n",
        "|MLPClassifier          |  0.771  |  0.866    |   0.578   |\n",
        "\n"
      ]
    },
    {
      "cell_type": "code",
      "metadata": {
        "id": "JXC6YusVQnoS"
      },
      "source": [
        "## Evaluate the models\n",
        "\n",
        "model_names = ['LogReg', 'knn', 'tree', 'mlp']\n",
        "n_run = 100\n",
        "LogReg_results = evaluate('LogReg',n_run)\n",
        "knn_results = evaluate('knn',n_run)\n",
        "tree_results = evaluate('tree',n_run)\n",
        "mlp_results = evaluate('mlp',n_run)\n",
        "\n",
        "output.clear()"
      ],
      "execution_count": null,
      "outputs": []
    },
    {
      "cell_type": "code",
      "metadata": {
        "colab": {
          "base_uri": "https://localhost:8080/",
          "height": 304
        },
        "id": "FfdSH-CfPqEy",
        "outputId": "7e135f27-c70d-47ad-bde3-e159ddacbf2e"
      },
      "source": [
        "## Box Plots\n",
        "\n",
        "fig, ((ax1, ax2, ax3)) = plt.subplots(1, 3, figsize=(15, 5))\n",
        "\n",
        "ax1.boxplot([LogReg_results['Test Accuracy'], knn_results['Test Accuracy'], tree_results['Test Accuracy'], mlp_results['Test Accuracy'] ] )\n",
        "ax1.set(title='Boxplot of Accuracies', xlabel='Model', ylabel='Value')\n",
        "ax1.set_xticklabels(model_names, rotation=45, fontsize=12)\n",
        "\n",
        "ax2.boxplot([LogReg_results['Sensitivity'], knn_results['Sensitivity'], tree_results['Sensitivity'], mlp_results['Sensitivity'] ] )\n",
        "ax2.set(title='Boxplot of Sensitivities', xlabel='Model', ylabel='Value')\n",
        "ax2.set_xticklabels(model_names, rotation=45, fontsize=12)\n",
        "\n",
        "ax3.boxplot([LogReg_results['Specificity'], knn_results['Specificity'], tree_results['Specificity'], mlp_results['Specificity'] ] )\n",
        "ax3.set(title='Boxplot of Specificities', xlabel='Model', ylabel='Value')\n",
        "ax3.set_xticklabels(model_names, rotation=45, fontsize=12)\n",
        "\n",
        "\n",
        "plt.show()"
      ],
      "execution_count": null,
      "outputs": [
        {
          "output_type": "display_data",
          "data": {
            "image/png": "[encoded data removed]",
            "text/plain": [
              "<Figure size 1080x360 with 3 Axes>"
            ]
          },
          "metadata": {
            "tags": [],
            "needs_background": "light"
          }
        }
      ]
    },
    {
      "cell_type": "code",
      "metadata": {
        "colab": {
          "base_uri": "https://localhost:8080/"
        },
        "id": "FG3x8CwKeLMe",
        "outputId": "4bf5effa-e1a6-432b-d35f-7405f3a54c6c"
      },
      "source": [
        "## tables of statistics\n",
        "\n",
        "eveluation_results = [LogReg_results, knn_results, tree_results, mlp_results]\n",
        "\n",
        "for evaluation_result in eveluation_results:\n",
        "  print('Statistics of results for the', evaluation_result.iloc[0]['Model'],'in {} runs'.format(n_run))\n",
        "  print(evaluation_result.describe().T.drop(['count','25%','50%','75%'], axis = 1).drop(\"random_state\", axis=0) , '\\n', '\\n')\n"
      ],
      "execution_count": null,
      "outputs": [
        {
          "output_type": "stream",
          "text": [
            "Statistics of results for the LogisticRegression in 100 runs\n",
            "                         mean       std       min        max\n",
            "Hyper-parameters     0.546416  1.621243  0.010000  12.915497\n",
            "Validation Accuracy  0.779400  0.024820  0.693333   0.833333\n",
            "Test Accuracy        0.772700  0.033329  0.700000   0.860000\n",
            "Sensitivity          0.913582  0.045315  0.791045   1.000000\n",
            "Specificity          0.486667  0.114346  0.212121   0.727273 \n",
            " \n",
            "\n",
            "Statistics of results for the KNeighborsClassifier in 100 runs\n",
            "                          mean       std       min        max\n",
            "Hyper-parameters     13.010000  6.186487  2.000000  24.000000\n",
            "Validation Accuracy   0.789333  0.021462  0.740000   0.846667\n",
            "Test Accuracy         0.761400  0.037927  0.660000   0.840000\n",
            "Sensitivity           0.896567  0.042442  0.805970   1.000000\n",
            "Specificity           0.486970  0.108642  0.212121   0.757576 \n",
            " \n",
            "\n",
            "Statistics of results for the DecisionTreeClassifier in 100 runs\n",
            "                         mean       std       min       max\n",
            "Validation Accuracy  0.787867  0.023772  0.733333  0.840000\n",
            "Test Accuracy        0.744700  0.040213  0.620000  0.840000\n",
            "Sensitivity          0.840597  0.057626  0.671642  0.985075\n",
            "Specificity          0.550000  0.126922  0.212121  0.848485 \n",
            " \n",
            "\n",
            "Statistics of results for the MLPClassifier in 100 runs\n",
            "                         mean       std       min       max\n",
            "Validation Accuracy  0.793933  0.023691  0.740000  0.846667\n",
            "Test Accuracy        0.771000  0.038782  0.660000  0.860000\n",
            "Sensitivity          0.865970  0.045200  0.731343  0.955224\n",
            "Specificity          0.578182  0.100151  0.393939  0.757576 \n",
            " \n",
            "\n"
          ],
          "name": "stdout"
        }
      ]
    }
  ]
}